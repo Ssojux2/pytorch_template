{
 "cells": [
  {
   "cell_type": "markdown",
   "metadata": {},
   "source": [
    "# PyTorch Code Examples\n",
    "\n",
    "## Tensors and Variables"
   ]
  },
  {
   "cell_type": "code",
   "execution_count": 1,
   "metadata": {},
   "outputs": [],
   "source": [
    "import torch\n"
   ]
  },
  {
   "cell_type": "markdown",
   "metadata": {},
   "source": [
    "* pytorch Tensors는 numpy's arrays와 비슷하게 동작한다"
   ]
  },
  {
   "cell_type": "code",
   "execution_count": 2,
   "metadata": {},
   "outputs": [
    {
     "name": "stdout",
     "output_type": "stream",
     "text": [
      "tensor([[1., 2.],\n",
      "        [3., 4.]])\n"
     ]
    }
   ],
   "source": [
    "a = torch.Tensor([[1,2],[3,4]])\n",
    "print(a)\n"
   ]
  },
  {
   "cell_type": "code",
   "execution_count": 3,
   "metadata": {},
   "outputs": [
    {
     "name": "stdout",
     "output_type": "stream",
     "text": [
      "tensor([[ 1.,  4.],\n",
      "        [ 9., 16.]])\n"
     ]
    }
   ],
   "source": [
    "print(a**2)\n"
   ]
  },
  {
   "cell_type": "markdown",
   "metadata": {},
   "source": [
    "* pytorch Variables는 a tensor 그리고 record operations 를 동작하게 묶어준다.\n",
    "* backprop 동작을 하게 만들어준다"
   ]
  },
  {
   "cell_type": "code",
   "execution_count": 4,
   "metadata": {},
   "outputs": [],
   "source": [
    "from torch.autograd import Variable\n"
   ]
  },
  {
   "cell_type": "code",
   "execution_count": 5,
   "metadata": {},
   "outputs": [
    {
     "name": "stdout",
     "output_type": "stream",
     "text": [
      "tensor([[1., 2.],\n",
      "        [3., 4.]], requires_grad=True)\n"
     ]
    }
   ],
   "source": [
    "a = Variable(torch.Tensor([[1,2],[3,4]]), requires_grad=True)\n",
    "print(a) # torch.FloatTensor of size 2x2\n"
   ]
  },
  {
   "cell_type": "code",
   "execution_count": 6,
   "metadata": {},
   "outputs": [
    {
     "name": "stdout",
     "output_type": "stream",
     "text": [
      "tensor(30., grad_fn=<SumBackward0>)\n"
     ]
    }
   ],
   "source": [
    "y = torch.sum(a**2)\n",
    "print(y) # torch.FloatTensor of size 1\n"
   ]
  },
  {
   "cell_type": "code",
   "execution_count": 7,
   "metadata": {},
   "outputs": [
    {
     "name": "stdout",
     "output_type": "stream",
     "text": [
      "tensor([[2., 4.],\n",
      "        [6., 8.]])\n"
     ]
    }
   ],
   "source": [
    "y.backward() # compute gradients of y wrt a\n",
    "print(a.grad) # print dy/da_ij = 2 * a_ij for a_11, a_12, a_21, a_22"
   ]
  },
  {
   "cell_type": "markdown",
   "metadata": {},
   "source": [
    "## Core Traning Step\n",
    "\n",
    "* pass a batch of inputs through the model / batch 인풋을 모델에 넣기\n",
    "* calculate the loss / 로스 계산\n",
    "* calculate backprop / backprop 계산\n",
    "* update the parameters / 파라미터 업데이트"
   ]
  },
  {
   "cell_type": "code",
   "execution_count": null,
   "metadata": {},
   "outputs": [],
   "source": [
    "output_batch = model(train_batch) # compute model output\n",
    "loss = loss_fn(output_batch, labels_batch) # calculate loss\n",
    "\n",
    "optimizer.zero_grad() # clear previous gradients\n",
    "loss.backward() # comput gradients of all variables wrt loss\n",
    "\n",
    "optimizer.step() # perform updates using claculated gradients"
   ]
  }
 ],
 "metadata": {
  "kernelspec": {
   "display_name": "Python 3",
   "language": "python",
   "name": "python3"
  },
  "language_info": {
   "codemirror_mode": {
    "name": "ipython",
    "version": 3
   },
   "file_extension": ".py",
   "mimetype": "text/x-python",
   "name": "python",
   "nbconvert_exporter": "python",
   "pygments_lexer": "ipython3",
   "version": "3.6.7"
  }
 },
 "nbformat": 4,
 "nbformat_minor": 2
}
